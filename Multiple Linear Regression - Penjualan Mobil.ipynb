{
 "cells": [
  {
   "cell_type": "code",
   "execution_count": 1,
   "id": "b45242bb-014a-4e66-8102-e5a1bdd78e53",
   "metadata": {},
   "outputs": [],
   "source": [
    "import pandas as pd"
   ]
  },
  {
   "cell_type": "code",
   "execution_count": 2,
   "id": "d9c87488-1e9d-4b8b-96a4-1bc4a01ee1e9",
   "metadata": {},
   "outputs": [
    {
     "name": "stdout",
     "output_type": "stream",
     "text": [
      "    Ukuran Mesin  Desain Mobil  Harga Jual\n",
      "0            130             1       13495\n",
      "1            130             1       16500\n",
      "2            152             1       16500\n",
      "3            109             1       13950\n",
      "4            136             1       17450\n",
      "5            136             1       15250\n",
      "6            136             1       17710\n",
      "7            136             1       18920\n",
      "8            131             1       23875\n",
      "9            108             1       16430\n",
      "10           108             1       16925\n",
      "11           164             1       20970\n",
      "12           164             1       21105\n",
      "13           164             1       24565\n",
      "14           209             1       30760\n",
      "15           209             1       41315\n",
      "16           209             1       36880\n",
      "17            61             0        5151\n",
      "18            90             0        6295\n",
      "19            90             0        6575\n",
      "20            90             0        5572\n",
      "21            90             0        6377\n",
      "22            98             0        7957\n",
      "23            90             0        6229\n",
      "24            90             0        6692\n",
      "25            90             0        7609\n",
      "26            98             0        8558\n",
      "27           122             0        8921\n",
      "28           156             0       12964\n",
      "29            92             0        6479\n",
      "30            92             0        6855\n",
      "31            79             0        5399\n",
      "32            92             0        6529\n",
      "33            92             0        7129\n",
      "34            92             0        7295\n",
      "35            92             0        7295\n",
      "36           110             0        7895\n",
      "37           110             0        9095\n",
      "38           110             0        8845\n",
      "39           110             1       10295\n"
     ]
    }
   ],
   "source": [
    "#memanggil dataset\n",
    "df = pd.read_csv(r'C:\\Users\\shaff\\Documents\\diva\\Data Jual Mobil.csv')\n",
    "\n",
    "print(df)"
   ]
  },
  {
   "cell_type": "code",
   "execution_count": 3,
   "id": "e77eaec9-3aef-4989-8deb-cac6facafcef",
   "metadata": {},
   "outputs": [],
   "source": [
    "#Mengganti nama variabel\n",
    "df.rename(columns={'Ukuran Mesin':'x1','Desain Mobil':'x2','Harga Jual':'y'}, inplace=True)"
   ]
  },
  {
   "cell_type": "code",
   "execution_count": 4,
   "id": "28eb5da9-0eda-4385-b2cd-e952584ae15d",
   "metadata": {},
   "outputs": [
    {
     "data": {
      "text/html": [
       "<div>\n",
       "<style scoped>\n",
       "    .dataframe tbody tr th:only-of-type {\n",
       "        vertical-align: middle;\n",
       "    }\n",
       "\n",
       "    .dataframe tbody tr th {\n",
       "        vertical-align: top;\n",
       "    }\n",
       "\n",
       "    .dataframe thead th {\n",
       "        text-align: right;\n",
       "    }\n",
       "</style>\n",
       "<table border=\"1\" class=\"dataframe\">\n",
       "  <thead>\n",
       "    <tr style=\"text-align: right;\">\n",
       "      <th></th>\n",
       "      <th>x1</th>\n",
       "      <th>x2</th>\n",
       "      <th>y</th>\n",
       "    </tr>\n",
       "  </thead>\n",
       "  <tbody>\n",
       "    <tr>\n",
       "      <th>0</th>\n",
       "      <td>130</td>\n",
       "      <td>1</td>\n",
       "      <td>13495</td>\n",
       "    </tr>\n",
       "    <tr>\n",
       "      <th>1</th>\n",
       "      <td>130</td>\n",
       "      <td>1</td>\n",
       "      <td>16500</td>\n",
       "    </tr>\n",
       "    <tr>\n",
       "      <th>2</th>\n",
       "      <td>152</td>\n",
       "      <td>1</td>\n",
       "      <td>16500</td>\n",
       "    </tr>\n",
       "    <tr>\n",
       "      <th>3</th>\n",
       "      <td>109</td>\n",
       "      <td>1</td>\n",
       "      <td>13950</td>\n",
       "    </tr>\n",
       "    <tr>\n",
       "      <th>4</th>\n",
       "      <td>136</td>\n",
       "      <td>1</td>\n",
       "      <td>17450</td>\n",
       "    </tr>\n",
       "  </tbody>\n",
       "</table>\n",
       "</div>"
      ],
      "text/plain": [
       "    x1  x2      y\n",
       "0  130   1  13495\n",
       "1  130   1  16500\n",
       "2  152   1  16500\n",
       "3  109   1  13950\n",
       "4  136   1  17450"
      ]
     },
     "execution_count": 4,
     "metadata": {},
     "output_type": "execute_result"
    }
   ],
   "source": [
    "df.head()"
   ]
  },
  {
   "cell_type": "code",
   "execution_count": 5,
   "id": "c2567828-5f81-4851-ad26-543bf7d870a6",
   "metadata": {},
   "outputs": [],
   "source": [
    "# Library untuk memunculkan Plot\n",
    "import numpy as np\n",
    "import matplotlib.pyplot as plt\n",
    "import seaborn as sns\n",
    "plt.style.use('fivethirtyeight')\n",
    "import warnings\n",
    "warnings.filterwarnings('ignore')\n",
    "%matplotlib inline"
   ]
  },
  {
   "cell_type": "code",
   "execution_count": 6,
   "id": "d14a697f-43ed-4de7-8a28-73b6328d7193",
   "metadata": {},
   "outputs": [
    {
     "data": {
      "image/png": "[encoded data removed]",
      "text/plain": [
       "<Figure size 432x288 with 1 Axes>"
      ]
     },
     "metadata": {
      "needs_background": "light"
     },
     "output_type": "display_data"
    }
   ],
   "source": [
    "# Untuk memunculkan Scatter Plot X1 vs Y\n",
    "plt.scatter(df['x1'], df['y'])\n",
    "plt.xlabel('x1')\n",
    "plt.ylabel('y')\n",
    "plt.title('Scatter Plot Ukuran Mesin vs Harga Jual')\n",
    "plt.show()"
   ]
  },
  {
   "cell_type": "markdown",
   "id": "e08a16fe-db02-4b82-ac87-1e89ba5f0fe9",
   "metadata": {},
   "source": [
    "##### Hubungan antara x1 dan y linier, semakin besar ukuran mesin maka harga jual semakin tinggi dan sebaliknya\n",
    "##### Hubungan antara x1 dan y positif, semakin besar x1 maka semakin tinggi y dan sebaliknya"
   ]
  },
  {
   "cell_type": "code",
   "execution_count": 7,
   "id": "32e62799-931f-4d84-892d-7bf5549a6474",
   "metadata": {},
   "outputs": [
    {
     "data": {
      "image/png": "[encoded data removed]",
      "text/plain": [
       "<Figure size 432x288 with 1 Axes>"
      ]
     },
     "metadata": {
      "needs_background": "light"
     },
     "output_type": "display_data"
    }
   ],
   "source": [
    "# Untuk memunculkan Scatter Plot X2 vs Y\n",
    "plt.scatter(df['x2'], df['y'])\n",
    "plt.xlabel('x2')\n",
    "plt.ylabel('y')\n",
    "plt.title('Scatter Plot Desain Mobil vs Harga Jual')\n",
    "plt.show()"
   ]
  },
  {
   "cell_type": "markdown",
   "id": "77ff5f97-e02f-49ec-ad29-9d9bf2755dd6",
   "metadata": {},
   "source": [
    "##### Tidak terdapat hubungan antara Desain Mobil dengan harga jual"
   ]
  },
  {
   "cell_type": "code",
   "execution_count": 9,
   "id": "6f10ead9-6590-4a90-a353-4fda26e8ddb5",
   "metadata": {},
   "outputs": [
    {
     "name": "stdout",
     "output_type": "stream",
     "text": [
      "Koefisien Pearson: 0.92747\n"
     ]
    }
   ],
   "source": [
    "#Mengitung nilai korelasi pearson\n",
    "from scipy.stats import pearsonr\n",
    "# Convert dataframe into series\n",
    "list1 = df['x1']\n",
    "list2 = df['y']\n",
    "corr, _ = pearsonr(list1, list2)\n",
    "print('Koefisien Pearson: %.5f' % corr)"
   ]
  },
  {
   "cell_type": "markdown",
   "id": "ce53dd45-bbf8-4b93-94fe-7d69b0e38540",
   "metadata": {},
   "source": [
    "##### Jadi, korelasi antara x1/Ukuran Mesin dengan y/Harga Jual menggunakan analisis pearson adalah tinggi, yaitu 0,92747"
   ]
  },
  {
   "cell_type": "code",
   "execution_count": 10,
   "id": "debe901f-4447-4d76-80bf-99ea95dabc47",
   "metadata": {},
   "outputs": [
    {
     "name": "stdout",
     "output_type": "stream",
     "text": [
      "Koefisien Pearson: 0.77206\n"
     ]
    }
   ],
   "source": [
    "#Mengitung nilai korelasi pearson\n",
    "from scipy.stats import pearsonr\n",
    "# Convert dataframe into series\n",
    "list1 = df['x2']\n",
    "list2 = df['y']\n",
    "corr, _ = pearsonr(list1, list2)\n",
    "print('Koefisien Pearson: %.5f' % corr)"
   ]
  },
  {
   "cell_type": "markdown",
   "id": "3b4ff605-35a9-45e4-9105-8c72103fbac9",
   "metadata": {},
   "source": [
    "##### jadi, korelasi antara x2/Desain mobil dengan y/Harga Jual menggunakan analisis pearson adalah tinggi, yaitu 0,77206"
   ]
  },
  {
   "cell_type": "code",
   "execution_count": 11,
   "id": "b590ea29-ed1a-4504-ad4a-5c339e6ed23f",
   "metadata": {},
   "outputs": [
    {
     "data": {
      "text/plain": [
       "PointbiserialrResult(correlation=0.772058353582066, pvalue=5.422379333800211e-09)"
      ]
     },
     "execution_count": 11,
     "metadata": {},
     "output_type": "execute_result"
    }
   ],
   "source": [
    "import scipy.stats as stats\n",
    "\n",
    "#menghitung Korelasi Biserial Poin Desain Mobil VS Harga Jual\n",
    "stats.pointbiserialr(df['x2'], df['y'])"
   ]
  },
  {
   "cell_type": "markdown",
   "id": "0bd39567-30e3-48d8-bddf-2b7391f9ad6c",
   "metadata": {},
   "source": [
    "##### Berdasarkan nilai korelasi Biserial Poin sebesar 0,77205. Maka dapat disimpulkan bahwa variabel Desain Mobil dengan Harga Jual memiliki hubungan korelasi positif yang kuat "
   ]
  },
  {
   "cell_type": "code",
   "execution_count": 12,
   "id": "7613b1ea-ca71-43d5-8080-6b2ba1ab6d64",
   "metadata": {},
   "outputs": [
    {
     "name": "stdout",
     "output_type": "stream",
     "text": [
      "                            OLS Regression Results                            \n",
      "==============================================================================\n",
      "Dep. Variable:                      y   R-squared:                       0.891\n",
      "Model:                            OLS   Adj. R-squared:                  0.885\n",
      "Method:                 Least Squares   F-statistic:                     151.2\n",
      "Date:                Tue, 29 Nov 2022   Prob (F-statistic):           1.57e-18\n",
      "Time:                        00:14:25   Log-Likelihood:                -374.87\n",
      "No. Observations:                  40   AIC:                             755.7\n",
      "Df Residuals:                      37   BIC:                             760.8\n",
      "Df Model:                           2                                         \n",
      "Covariance Type:            nonrobust                                         \n",
      "==============================================================================\n",
      "                 coef    std err          t      P>|t|      [0.025      0.975]\n",
      "------------------------------------------------------------------------------\n",
      "Intercept  -1.027e+04   1870.696     -5.489      0.000   -1.41e+04   -6477.928\n",
      "x1           182.3231     18.226     10.004      0.000     145.394     219.252\n",
      "x2_1        4233.8511   1310.135      3.232      0.003    1579.266    6888.436\n",
      "==============================================================================\n",
      "Omnibus:                        8.791   Durbin-Watson:                   1.191\n",
      "Prob(Omnibus):                  0.012   Jarque-Bera (JB):                8.392\n",
      "Skew:                           0.789   Prob(JB):                       0.0151\n",
      "Kurtosis:                       4.595   Cond. No.                         540.\n",
      "==============================================================================\n",
      "\n",
      "Notes:\n",
      "[1] Standard Errors assume that the covariance matrix of the errors is correctly specified.\n"
     ]
    }
   ],
   "source": [
    "#Memodelkan dengan Regresi Linier Berganda\n",
    "import numpy as np\n",
    "import statsmodels.api as sm\n",
    "import statsmodels.formula.api as smf\n",
    "df_with_dummies = pd.get_dummies(data=df, columns=['x2'])\n",
    "x = df_with_dummies[['x1','x2_0','x2_1']]\n",
    "y = df_with_dummies['y']\n",
    "reg_mod = 'y ~ x1+x2_1'\n",
    "model = smf.ols(formula=reg_mod, data=df_with_dummies).fit()\n",
    "print_model = model.summary()\n",
    "print(print_model)"
   ]
  },
  {
   "cell_type": "markdown",
   "id": "15cd4cc0-6f90-4ca2-b3ef-723d9985a0c5",
   "metadata": {},
   "source": [
    "##### Berdasarkan hasil diatas, jika Desain Mobil adalah 0. Maka, model regresi yang didapat adalah 𝑦hat = -1.027e+04+182,3231𝑥1+4233,8511(0) --> 𝑦hat = -1.027e+04+182,3231𝑥1\n",
    "##### Berdasarkan hasil diatas, jika Desain Mobil adalah 1. Maka, model regresi yang didapat adalah 𝑦hat = -1.027e+04-182,3231𝑥1+4233,8511"
   ]
  },
  {
   "cell_type": "code",
   "execution_count": 15,
   "id": "4def3fe6-a368-4fdb-a1cf-1707de3ccdf6",
   "metadata": {},
   "outputs": [
    {
     "name": "stdout",
     "output_type": "stream",
     "text": [
      "0    17667.541001\n",
      "1    17667.541001\n",
      "2    21678.649850\n",
      "3    13838.755282\n",
      "4    18761.479778\n",
      "dtype: float64\n"
     ]
    }
   ],
   "source": [
    "# Untuk menghasilkan nilai prediksi yhat\n",
    "\n",
    "prediksi = model.predict(x)\n",
    "print(prediksi.head())"
   ]
  },
  {
   "cell_type": "code",
   "execution_count": 16,
   "id": "c269cc26-146d-48b0-8ddd-b71e3052ade6",
   "metadata": {},
   "outputs": [
    {
     "name": "stdout",
     "output_type": "stream",
     "text": [
      "0   -4172.541001\n",
      "1   -1167.541001\n",
      "2   -5178.649850\n",
      "3     111.244718\n",
      "4   -1311.479778\n",
      "dtype: float64\n"
     ]
    }
   ],
   "source": [
    "# Untuk menghasilkan nilai residual\n",
    "\n",
    "residual=model.resid\n",
    "print(residual.head())"
   ]
  },
  {
   "cell_type": "markdown",
   "id": "df526511-a07c-41ed-bf16-881bf4498110",
   "metadata": {},
   "source": [
    "#### Melakukan Uji F\n",
    "##### berdasarkan hasil diatas, didapatkan F-statistics = 151,2 dan p-value sebesar 1,57e-18\n",
    "##### dengan alfa sebesar 0,05. H0 ditolak jika Fhit>Ftabel, dimana Ftabel = 3,25 atau p-value<0,05 \n",
    "\n",
    "##### dengan alfa 0,05, nilai Fhitung 151,2 lebih dari Ftabel 3,25 dan p value sebesar 0,00 yang kurang dari 0,05 maka H0 ditolak. Artinya, ada minimal 1 variabel atau lebih yang berpengaruh terhadap variabel dependennya."
   ]
  },
  {
   "cell_type": "markdown",
   "id": "7606cccd-a318-4c38-bbdd-7e13c2cc5034",
   "metadata": {},
   "source": [
    "#### Mendapatkan R-Square\n",
    "##### berdasarkan gambar diatas, didaptkan nilai R-Square Adjusted sebesar 0,885 yang artinya 88,5% Harga jual dipengaruhi oleh Ukuran Mesin dan Desain Mobil serta 11,5% lainnya dipengaruhi oleh variabel lainnya yang tidak diketahui atau tidak diteliti."
   ]
  },
  {
   "cell_type": "markdown",
   "id": "53a6b5a5-e92c-479e-8ccf-c03821ef5699",
   "metadata": {},
   "source": [
    "#### Melakukan Uji T (Ukuran Mesin)\n",
    "##### berdasarkan gambar diatas, didaptkan bahwa nilai T-statistics untuk variabel Ukuran Mesin adalah 10,004 atau p-value yang didapat 0,000\n",
    "##### dengan alfa 0,05. H0 ditolak jika Thitung>Ttabel, dimana tTabel = 2,024\n",
    "\n",
    "##### dengan alfa 0,05, nilai Thitung 10,004 lebih dari Ttabel 2,024 dan p value sebesar 0,000 yang kurang dari 0,05 maka H0 ditolak. Artinya bahwa variabel ukuran mesin berpengaruh signifikan terhadap harga jual."
   ]
  },
  {
   "cell_type": "markdown",
   "id": "b3ed3351-7ca6-4275-8eeb-522d2a5f7819",
   "metadata": {},
   "source": [
    "#### Melakukan Uji T (Desain Mobil)\n",
    "##### berdasarkan gambar diatas, didapatkan bahwa nilai T-statistics untuk variabel Desain Mobil adalah 3,232 atau p-value yang didapat 0,003\n",
    "##### dengan alfa 0,05. H0 ditolak jika Thitung>Ttabel, dimana Ttabel = 2,024\n",
    "\n",
    "##### dengan alfa 0,05, nilai Thitung 3,232 lebih dari Ttabel 2,024 dan p-value sebesar 0,003 yang kurang dari 0,05 maka H0 ditolak. Artinya bahwa variabel desain mobil berpengaruh signifikan terhadap harga jual."
   ]
  },
  {
   "cell_type": "code",
   "execution_count": 30,
   "id": "8e3132ea-7b56-4e7c-abfa-623eb161d4dc",
   "metadata": {},
   "outputs": [
    {
     "data": {
      "image/png": "[encoded data removed]",
      "text/plain": [
       "<Figure size 432x288 with 1 Axes>"
      ]
     },
     "metadata": {
      "needs_background": "light"
     },
     "output_type": "display_data"
    }
   ],
   "source": [
    "#Memeriksa asumsi residual berdisribusi normal\n",
    "#Menggambar Plot QQ menggunakan package statmodels\n",
    "\n",
    "import scipy.stats as stats\n",
    "fig = sm.qqplot(residual, stats.t, fit=True, line=\"45\")\n",
    "plt.show()"
   ]
  },
  {
   "cell_type": "markdown",
   "id": "65511aed-1644-47ba-ac05-e3e4a903ef54",
   "metadata": {},
   "source": [
    "##### Terlihat bahwa distribusi data residual mendekati garis linier, sehingga dapat disimpulkan bahwa data residual tersebut memenuhi asusmsi bedistribusi normal."
   ]
  },
  {
   "cell_type": "code",
   "execution_count": 31,
   "id": "4e8389fb-88e4-4623-bd3b-925a430bb200",
   "metadata": {},
   "outputs": [
    {
     "data": {
      "image/png": "[encoded data removed]",
      "text/plain": [
       "<Figure size 432x288 with 1 Axes>"
      ]
     },
     "metadata": {
      "needs_background": "light"
     },
     "output_type": "display_data"
    }
   ],
   "source": [
    "#Plot memeriksa asumsi residual tidak terjadi autokorelasi\n",
    "urutan_pengamatan=pd.Series(range(1,41)) \n",
    "plt.scatter(urutan_pengamatan, residual);\n",
    "plt.axhline(0, color='red')\n",
    "plt.xlabel('data urutan');\n",
    "plt.ylabel('Residual');\n",
    "plt.xlim([1,41]);"
   ]
  },
  {
   "cell_type": "markdown",
   "id": "e7d23395-8e83-4165-99ef-4620774172d9",
   "metadata": {},
   "source": [
    "##### Terlihat bahwa  distribusi data residual terhdap plot tidak membentuk pola apapun sehingga dapat disimpulkan bahwa data residual memenuhi asumsi residual, yaitu tidak terjadinya autokorelasi  "
   ]
  },
  {
   "cell_type": "code",
   "execution_count": 36,
   "id": "fe7d8e06-3bdb-4c11-b307-f9a254368bb2",
   "metadata": {},
   "outputs": [
    {
     "data": {
      "image/png": "[encoded data removed]",
      "text/plain": [
       "<Figure size 432x288 with 1 Axes>"
      ]
     },
     "metadata": {
      "needs_background": "light"
     },
     "output_type": "display_data"
    }
   ],
   "source": [
    "#Plot memeriksa asumsi residual tidak terjadi heteroskedastisitas\n",
    "influence = model.get_influence()\n",
    "#menentukan standardized residualnya\n",
    "std_residual = influence.resid_studentized_internal\n",
    "plt.scatter(prediksi, std_residual);\n",
    "plt.axhline(0, color='red')\n",
    "plt.xlabel('prediksi');\n",
    "plt.ylabel('standardized residual');\n",
    "plt.xlim([41,50000]);"
   ]
  },
  {
   "cell_type": "markdown",
   "id": "cbe6dbaf-0073-4511-a0fc-9318022a65e6",
   "metadata": {},
   "source": [
    "##### Terlihat bahwa data varians residual yang diwakilkan oleh standardized residualnya tidak membentuk pola apapun, sehingga dapat diartikan bahwa residual memenuhi asumsi tidak terjadi heteroskedastisitas."
   ]
  },
  {
   "cell_type": "code",
   "execution_count": 24,
   "id": "9f178ce8-77d9-4738-b8c1-8922634a6fd3",
   "metadata": {
    "tags": []
   },
   "outputs": [
    {
     "data": {
      "text/plain": [
       "[('Jarque-Bera', 8.392193985676586),\n",
       " ('Chi^2 two-tail prob.', 0.015054219030240646),\n",
       " ('Skew', 0.7894013958102928),\n",
       " ('Kurtosis', 4.594584001104049)]"
      ]
     },
     "execution_count": 24,
     "metadata": {},
     "output_type": "execute_result"
    }
   ],
   "source": [
    "# Pengujian Jarque Bera untuk memeriksa asumsi residual\n",
    "from statsmodels.compat import lzip\n",
    "import statsmodels.formula.api as smf\n",
    "import statsmodels.stats.api as sms\n",
    "name = [\"Jarque-Bera\", \"Chi^2 two-tail prob.\", \"Skew\", \"Kurtosis\"]\n",
    "test = sms.jarque_bera(model.resid)\n",
    "lzip(name, test)"
   ]
  },
  {
   "cell_type": "markdown",
   "id": "965a249c-c1ba-43db-a029-8e6792787ff0",
   "metadata": {},
   "source": [
    "##### Berdasrkan output diatas, didapatkan nilai statistik uji JB sebesar 8,3921 dan p-value sebesar 0,015.\n",
    "##### Dengan alfa 0,05. H0 ditolak jika Jb>Chi Square table atau p-value<0,05\n",
    "##### Berdasarkan uji statistik diatas, didapatkan nilai JB sebesar 8,3921. Dengan alfa 0,05 dan tabel chi square yaitu 5,9914. dan p-value sebesar 0,015<0,05. Artinya tolak H0, artinya residual tidak memenuhi asumsi berdistribusi normal."
   ]
  },
  {
   "cell_type": "code",
   "execution_count": 25,
   "id": "009cae80-88bf-41e6-b5da-1a0bc6216347",
   "metadata": {},
   "outputs": [
    {
     "name": "stdout",
     "output_type": "stream",
     "text": [
      "Durbin-Watson: 1.1912358784180817\n"
     ]
    }
   ],
   "source": [
    "#Pengujian Durbin-Watson\n",
    "from statsmodels.stats.stattools import durbin_watson\n",
    "dw = durbin_watson(model.resid)\n",
    "print(f\"Durbin-Watson: {dw}\")"
   ]
  },
  {
   "cell_type": "markdown",
   "id": "36d430e0-a839-428b-bf9a-cfd702f35517",
   "metadata": {},
   "source": [
    "##### Dikarenakan dhitung=1,1912 dimana dhitung<dL maka disimpulkan bahwa H0 ditolak. Sehingga dapat disimpulkan dengan metode durbin watson bahwa pada residual terjadi autokorelasi."
   ]
  },
  {
   "cell_type": "code",
   "execution_count": 27,
   "id": "a8435f64-183a-4158-9cd4-4369d3a5ffce",
   "metadata": {},
   "outputs": [
    {
     "data": {
      "text/plain": [
       "[('Lagrange multiplier statistic', 11.518745971314566),\n",
       " ('p-value', 0.003153088010166664),\n",
       " ('f-value', 7.482002030342308),\n",
       " ('f p-value', 0.0018673840565722546)]"
      ]
     },
     "execution_count": 27,
     "metadata": {},
     "output_type": "execute_result"
    }
   ],
   "source": [
    "#Pengujian Breush-Pagan\n",
    "from statsmodels.compat import lzip\n",
    "import statsmodels.stats.api as sms\n",
    "\n",
    "names = ['Lagrange multiplier statistic', 'p-value',\n",
    "        'f-value', 'f p-value']\n",
    "test = sms.het_breuschpagan(model.resid, model.model.exog)\n",
    "\n",
    "lzip(names, test)"
   ]
  },
  {
   "cell_type": "markdown",
   "id": "311fc43e-d908-40cb-972a-59cb917f560d",
   "metadata": {},
   "source": [
    "##### Berdasarkan uji statistik diatas, didapatkan nilai statistik uji breush Pagan sebesar 11,5187  dan p-value sebesar 0,0031.\n",
    "##### Dengan alfa sebesar 0,05, H0 ditolak jika nilai breush pagan>chi square tabel, atau p-value<0,05. Chi square table=5,991\n",
    "\n",
    "##### Dikarenakan statistik uji breush pagan 11,5187 kurang dari tabel chi square table, dapat disimpulkan bahwa H0 gagal ditolak dan tidak terjadi heteroskedastisitas pada asumsi  residual  "
   ]
  },
  {
   "cell_type": "code",
   "execution_count": 28,
   "id": "dd1f0883-2d3e-4e32-bf09-c093188dc76f",
   "metadata": {},
   "outputs": [
    {
     "name": "stdout",
     "output_type": "stream",
     "text": [
      "  feature      VIF\n",
      "0      x1  2.67189\n",
      "1      x2  2.67189\n"
     ]
    }
   ],
   "source": [
    "from statsmodels.stats.outliers_influence import variance_inflation_factor\n",
    "# Himpunan Variabel independen\n",
    "X = df[['x1', 'x2']]\n",
    "  \n",
    "# VIF dataframe\n",
    "vif_data = pd.DataFrame()\n",
    "vif_data[\"feature\"] = X.columns\n",
    "  \n",
    "# calculating VIF for each feature\n",
    "vif_data[\"VIF\"] = [variance_inflation_factor(X.values, i) for i in range(len(X.columns))]\n",
    "  \n",
    "print(vif_data)"
   ]
  },
  {
   "cell_type": "markdown",
   "id": "02c920de-5ae3-48ff-b11d-4d54289088ed",
   "metadata": {},
   "source": [
    "##### Berdasarkan hasil output diatas, nilai VIF kedua variabel independen kurang dari 10 dimana artinya tidak terjadi multikolinieritas pada variabel independennya.\n",
    " "
   ]
  },
  {
   "cell_type": "code",
   "execution_count": null,
   "id": "86df12af-166c-48a4-aa09-2bd9613a2c65",
   "metadata": {},
   "outputs": [],
   "source": []
  }
 ],
 "metadata": {
  "kernelspec": {
   "display_name": "Python 3",
   "language": "python",
   "name": "python3"
  },
  "language_info": {
   "codemirror_mode": {
    "name": "ipython",
    "version": 3
   },
   "file_extension": ".py",
   "mimetype": "text/x-python",
   "name": "python",
   "nbconvert_exporter": "python",
   "pygments_lexer": "ipython3",
   "version": "3.8.8"
  }
 },
 "nbformat": 4,
 "nbformat_minor": 5
}
